{
 "cells": [
  {
   "cell_type": "code",
   "execution_count": 1,
   "metadata": {},
   "outputs": [],
   "source": [
    "from integration import G, integrate_region, integrate_simpson, integrate_gauss, table_fn\n",
    "import pandas as pd\n",
    "import numpy as np\n",
    "from data_convertor import read_data"
   ]
  },
  {
   "cell_type": "code",
   "execution_count": 2,
   "metadata": {},
   "outputs": [
    {
     "name": "stdout",
     "output_type": "stream",
     "text": [
      "Without eta: 0.5754248749988361\n",
      "With eta 0.5754206554776091\n"
     ]
    }
   ],
   "source": [
    "x, y, z = read_data('./data/data_0.txt')\n",
    "\n",
    "g_points = [(x_, y_) for y_ in y for x_ in x if G(x_, y_)]\n",
    "\n",
    "g_dict = dict(zip(g_points, [table_fn(x, y, z, *p, use_eta=False) for p in g_points]))\n",
    "result = integrate_region(integrate_simpson, integrate_gauss, g_dict, use_eta=False)\n",
    "\n",
    "print(\"Without eta:\", result)\n",
    "\n",
    "g_dict_eta = dict(zip(g_points, [table_fn(x, y, z, *p) for p in g_points]))\n",
    "result_eta = integrate_region(integrate_simpson, integrate_gauss, g_dict_eta)\n",
    "\n",
    "print(\"With eta\", result_eta)"
   ]
  },
  {
   "cell_type": "code",
   "execution_count": 3,
   "metadata": {},
   "outputs": [
    {
     "name": "stdout",
     "output_type": "stream",
     "text": [
      "   X      Y  1 (Left)  2 (Center)  3 (Runge)  4 (Align. vars)  5 (Second der.)\n",
      "0  1  0.571     0.318         NaN        NaN         0.408499              NaN\n",
      "1  2  0.889     0.202      0.2600   0.337333         0.246899           -0.116\n",
      "2  3  1.091     0.140      0.1710   0.212333         0.165437           -0.062\n",
      "3  4  1.231     0.102      0.1210   0.146333         0.117744           -0.038\n",
      "4  5  1.333     0.079      0.0905   0.105833         0.089496           -0.023\n",
      "5  6  1.412       NaN         NaN        NaN              NaN              NaN\n"
     ]
    }
   ],
   "source": [
    "from derivative import *\n",
    "\n",
    "x = [1, 2, 3, 4, 5, 6]\n",
    "y = [0.571, 0.889, 1.091, 1.231, 1.333, 1.412]\n",
    "\n",
    "one = [get_left_derivative(y[i], y[i + 1]) for i in range(len(y) - 1)] + [None]\n",
    "\n",
    "two = [None] + [get_center_derivative(y[i - 1], y[i + 1]) for i in range(1, len(y) - 1)] + [None]\n",
    "\n",
    "three = [None] + [get_second_runge_formula_derivative(\n",
    "    y[i - 1], y[i], y[i + 1]) for i in range(1, len(y) - 1)] + [None]\n",
    "\n",
    "four = [get_alignment_variables_derivative(\n",
    "    y[i], y[i+1], x[i], x[i+1]) for i in range(len(y) - 1)] + [None]\n",
    "\n",
    "five = [None] + [get_second_derivative(y[i - 1], y[i], y[i + 1])\n",
    "                 for i in range(1, len(y) - 1)] + [None]\n",
    "\n",
    "results = {\n",
    "    'X': x,\n",
    "    'Y': y,\n",
    "    '1 (Left)': one,\n",
    "    '2 (Center)': two,\n",
    "    '3 (Runge)': three,\n",
    "    '4 (Align. vars)': four,\n",
    "    '5 (Second der.)': five\n",
    "}\n",
    "\n",
    "df = pd.DataFrame(results).reset_index(drop=True)\n",
    "\n",
    "print(df)"
   ]
  }
 ],
 "metadata": {
  "kernelspec": {
   "display_name": "Python 3",
   "language": "python",
   "name": "python3"
  },
  "language_info": {
   "codemirror_mode": {
    "name": "ipython",
    "version": 3
   },
   "file_extension": ".py",
   "mimetype": "text/x-python",
   "name": "python",
   "nbconvert_exporter": "python",
   "pygments_lexer": "ipython3",
   "version": "3.12.2"
  }
 },
 "nbformat": 4,
 "nbformat_minor": 2
}
